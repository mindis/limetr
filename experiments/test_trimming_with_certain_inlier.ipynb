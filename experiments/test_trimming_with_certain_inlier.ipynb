{
 "cells": [
  {
   "cell_type": "markdown",
   "metadata": {},
   "source": [
    "# Test Trimming with Certain Inliers"
   ]
  },
  {
   "cell_type": "code",
   "execution_count": null,
   "metadata": {},
   "outputs": [],
   "source": [
    "import numpy as np\n",
    "import matplotlib.pyplot as plt\n",
    "from limetr import LimeTr"
   ]
  },
  {
   "cell_type": "markdown",
   "metadata": {},
   "source": [
    "## create test data"
   ]
  },
  {
   "cell_type": "code",
   "execution_count": null,
   "metadata": {},
   "outputs": [],
   "source": [
    "N = 101\n",
    "X = np.linspace(0.0, 2.0, N)\n",
    "X = np.insert(X[:, None], 0, 1.0, axis=1)\n",
    "Z = np.ones((N, 1))\n",
    "\n",
    "k_beta = 2\n",
    "k_gamma = 1\n",
    "\n",
    "n = np.array([50, 51])\n",
    "beta_true = np.array([1.0, 2.0])\n",
    "gamma_true = np.array([0.0])\n",
    "S = np.repeat(0.1, N)\n",
    "\n",
    "u = np.random.randn(n.size, k_gamma)*np.sqrt(gamma_true)\n",
    "E = np.random.randn(N)*S\n",
    "Y = X.dot(beta_true) + np.sum(Z*np.repeat(u, n, axis=0), axis=1) + E\n",
    "\n",
    "# add outlier\n",
    "num_outliers = 5\n",
    "outlier_id = np.random.choice(N, num_outliers, replace=False)\n",
    "Y[outlier_id] += 10.0"
   ]
  },
  {
   "cell_type": "markdown",
   "metadata": {},
   "source": [
    "## without pre-select inlier"
   ]
  },
  {
   "cell_type": "code",
   "execution_count": null,
   "metadata": {},
   "outputs": [],
   "source": [
    "lt = LimeTr(n, k_beta, k_gamma,\n",
    "            Y,\n",
    "            lambda beta: X.dot(beta),\n",
    "            lambda beta: X,\n",
    "            Z,\n",
    "            S=S,\n",
    "            inlier_percentage = 1.0 - num_outliers/N)"
   ]
  },
  {
   "cell_type": "code",
   "execution_count": null,
   "metadata": {},
   "outputs": [],
   "source": [
    "beta_soln, gamma_soln, w_soln = lt.fitModel()"
   ]
  },
  {
   "cell_type": "code",
   "execution_count": null,
   "metadata": {},
   "outputs": [],
   "source": [
    "w_soln[outlier_id]"
   ]
  },
  {
   "cell_type": "code",
   "execution_count": null,
   "metadata": {},
   "outputs": [],
   "source": [
    "plt.scatter(X[:, 1], Y, marker='.')\n",
    "plt.scatter(X[w_soln == 0.0, 1], Y[w_soln == 0.0], marker='x', color='r')\n",
    "plt.plot(X[:, 1], X.dot(beta_true), 'k')\n",
    "plt.plot(X[:, 1], X.dot(beta_soln))"
   ]
  },
  {
   "cell_type": "markdown",
   "metadata": {},
   "source": [
    "## pre-select inlier"
   ]
  },
  {
   "cell_type": "code",
   "execution_count": null,
   "metadata": {},
   "outputs": [],
   "source": [
    "lt = LimeTr(n, k_beta, k_gamma,\n",
    "            Y,\n",
    "            lambda beta: X.dot(beta),\n",
    "            lambda beta: X,\n",
    "            Z,\n",
    "            S=S,\n",
    "            certain_inlier_id = np.array([outlier_id[0]]),\n",
    "            inlier_percentage = 1.0 - num_outliers/N)"
   ]
  },
  {
   "cell_type": "code",
   "execution_count": null,
   "metadata": {},
   "outputs": [],
   "source": [
    "beta_soln, gamma_soln, w_soln = lt.fitModel()"
   ]
  },
  {
   "cell_type": "code",
   "execution_count": null,
   "metadata": {},
   "outputs": [],
   "source": [
    "w_soln[outlier_id]"
   ]
  },
  {
   "cell_type": "code",
   "execution_count": null,
   "metadata": {},
   "outputs": [],
   "source": [
    "plt.scatter(X[:, 1], Y, marker='.')\n",
    "plt.scatter(X[outlier_id[0], 1], Y[outlier_id[0]], marker='o', color='g', facecolors='none')\n",
    "plt.scatter(X[w_soln == 0.0, 1], Y[w_soln == 0.0], marker='x', color='r')\n",
    "plt.plot(X[:, 1], X.dot(beta_true), 'k')\n",
    "plt.plot(X[:, 1], X.dot(beta_soln))"
   ]
  },
  {
   "cell_type": "code",
   "execution_count": null,
   "metadata": {},
   "outputs": [],
   "source": []
  }
 ],
 "metadata": {
  "kernelspec": {
   "display_name": "Python 3",
   "language": "python",
   "name": "python3"
  },
  "language_info": {
   "codemirror_mode": {
    "name": "ipython",
    "version": 3
   },
   "file_extension": ".py",
   "mimetype": "text/x-python",
   "name": "python",
   "nbconvert_exporter": "python",
   "pygments_lexer": "ipython3",
   "version": "3.7.3"
  }
 },
 "nbformat": 4,
 "nbformat_minor": 2
}
